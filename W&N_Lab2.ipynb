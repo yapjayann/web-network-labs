{
  "nbformat": 4,
  "nbformat_minor": 0,
  "metadata": {
    "colab": {
      "provenance": [],
      "authorship_tag": "ABX9TyNnIZG+6jw8vunbvo/wACGn",
      "include_colab_link": true
    },
    "kernelspec": {
      "name": "python3",
      "display_name": "Python 3"
    },
    "language_info": {
      "name": "python"
    }
  },
  "cells": [
    {
      "cell_type": "markdown",
      "metadata": {
        "id": "view-in-github",
        "colab_type": "text"
      },
      "source": [
        "<a href=\"https://colab.research.google.com/github/yapjayann/web-network-labs/blob/main/W%26N_Lab2.ipynb\" target=\"_parent\"><img src=\"https://colab.research.google.com/assets/colab-badge.svg\" alt=\"Open In Colab\"/></a>"
      ]
    },
    {
      "cell_type": "code",
      "execution_count": null,
      "metadata": {
        "colab": {
          "base_uri": "https://localhost:8080/"
        },
        "id": "bSqxabPUxvdk",
        "outputId": "ff5391f5-aa0e-464e-b779-6211d13349f8"
      },
      "outputs": [
        {
          "output_type": "stream",
          "name": "stdout",
          "text": [
            "  Traffic_Source  total_page_views  total_sessions  total_conversions  \\\n",
            "0         Direct              1739             232                 36   \n",
            "4   Social Media              1505             192                 32   \n",
            "2           Paid              1497             210                 28   \n",
            "1        Organic              1387             196                 28   \n",
            "3       Referral              1176             170                 17   \n",
            "\n",
            "   conversion_rate  \n",
            "0        15.517241  \n",
            "4        16.666667  \n",
            "2        13.333333  \n",
            "1        14.285714  \n",
            "3        10.000000  \n"
          ]
        }
      ],
      "source": [
        "import pandas as pd\n",
        "\n",
        "# Load the dataset\n",
        "df = pd.read_csv('web_analytics_data.csv')\n",
        "\n",
        "# Grouping by Traffic_Source to find total Page_Views and Sessions\n",
        "traffic_analysis = df.groupby('Traffic_Source').agg(\n",
        "total_page_views=('Page_Views', 'sum'),\n",
        "total_sessions=('Session_ID', 'count'),\n",
        "total_conversions=('Conversions', 'sum')\n",
        ").reset_index()\n",
        "\n",
        "# Calculating Conversion Rate for each traffic source\n",
        "traffic_analysis ['conversion_rate' ] = traffic_analysis['total_conversions' ] / traffic_analysis['total_sessions' ] * 100\n",
        "\n",
        "# Sorting by total page views and conversion rate\n",
        "traffic_analysis_sorted = traffic_analysis.sort_values(by=['total_page_views', 'conversion_rate' ], ascending=False)\n",
        "\n",
        "# Displaying the traffic analysis\n",
        "print(traffic_analysis_sorted)"
      ]
    },
    {
      "cell_type": "code",
      "source": [
        "import pandas as pd\n",
        "\n",
        "# Load the dataset\n",
        "df = pd.read_csv('web_analytics_data.csv' )\n",
        "\n",
        "# Calculate bounce rate for each device type\n",
        "# Bounce rate = (Number of sessions with bounce / Total sessions) * 100\n",
        "bounce_rates = df. groupby ('Device' ) ['Bounce_Rate' ].mean() * 100\n",
        "\n",
        "# Display the bounce rates for each device\n",
        "print(\"Bounce rates for each device type:\")\n",
        "print(bounce_rates)\n",
        "\n",
        "# Find the device with the highest bounce rate\n",
        "highest_bounce_device = bounce_rates.idxmax()\n",
        "highest_bounce_rate = bounce_rates.max()\n",
        "\n",
        "print(f\"\\nThe device with the highest bounce rate is: {highest_bounce_device} ({highest_bounce_rate :.2f}%)\")"
      ],
      "metadata": {
        "collapsed": true,
        "colab": {
          "base_uri": "https://localhost:8080/"
        },
        "id": "NiD6S0Vh0J8s",
        "outputId": "ec657033-8e73-48b3-d842-89753c67a00d"
      },
      "execution_count": null,
      "outputs": [
        {
          "output_type": "stream",
          "name": "stdout",
          "text": [
            "Bounce rates for each device type:\n",
            "Device\n",
            "Desktop    29.878049\n",
            "Mobile     30.182927\n",
            "Tablet     32.848837\n",
            "Name: Bounce_Rate, dtype: float64\n",
            "\n",
            "The device with the highest bounce rate is: Tablet (32.85%)\n"
          ]
        }
      ]
    },
    {
      "cell_type": "code",
      "source": [
        "import pandas as pd\n",
        "\n",
        "# Load your dataset\n",
        "df = pd.read_csv('web_analytics_data.csv')\n",
        "\n",
        "# Calculate average session duration and page views per session by country\n",
        "engagement_by_country = df. groupby('Country').agg({\n",
        "'Session_Duration': 'mean',\n",
        "'Page_Views': 'mean'\n",
        "}).reset_index()\n",
        "\n",
        "# Rename the columns for clarity\n",
        "engagement_by_country. columns = ['Country', 'Avg_Session_Duration', 'Avg_Page_Views' ]\n",
        "\n",
        "# Add an engagement score by combining both metrics (equal weighting for simplicity)\n",
        "engagement_by_country['Engagement_Score' ] = (engagement_by_country['Avg_Session_Duration' ] + engagement_by_country['Avg_Page_Views' ]) / 2\n",
        "\n",
        "# Find the country with the highest engagement score\n",
        "most_engaged_country = engagement_by_country.loc[engagement_by_country['Engagement_Score' ].idxmax() ]\n",
        "\n",
        "# Display the average session duration and page views per session by country\n",
        "print(\"Average Session Duration and Page Views per Session by Country:\")\n",
        "print(engagement_by_country)\n",
        "\n",
        "# Display the country with the highest engagement score\n",
        "print(\"\\nCountry with the Highest Engagement:\")\n",
        "print(most_engaged_country)"
      ],
      "metadata": {
        "colab": {
          "base_uri": "https://localhost:8080/"
        },
        "id": "A6gKj6AH0fV_",
        "outputId": "73e0fb95-566d-425c-8425-e6d0e2798199"
      },
      "execution_count": null,
      "outputs": [
        {
          "output_type": "stream",
          "name": "stdout",
          "text": [
            "Average Session Duration and Page Views per Session by Country:\n",
            "   Country  Avg_Session_Duration  Avg_Page_Views  Engagement_Score\n",
            "0   Canada              9.494039        7.591133          8.542586\n",
            "1   France             10.160637        7.514706          8.837672\n",
            "2  Germany             10.727678        7.194313          8.960995\n",
            "3       UK             10.073655        7.319797          8.696726\n",
            "4      USA             10.574108        6.864865          8.719486\n",
            "\n",
            "Country with the Highest Engagement:\n",
            "Country                   Germany\n",
            "Avg_Session_Duration    10.727678\n",
            "Avg_Page_Views           7.194313\n",
            "Engagement_Score         8.960995\n",
            "Name: 2, dtype: object\n"
          ]
        }
      ]
    },
    {
      "cell_type": "code",
      "source": [
        "import pandas as pd\n",
        "\n",
        "# Load your dataset\n",
        "df = pd.read_csv('web_analytics_data.csv')\n",
        "\n",
        "# Calculate the overall conversion rate\n",
        "overall_conversion_rate = df ['Conversions' ].mean()\n",
        "\n",
        "# Calculate conversion rate for each traffic source\n",
        "conversion_rate_by_source = df. groupby('Traffic_Source') ['Conversions' ].mean().reset_index()\n",
        "\n",
        "# Rename columns for clarity\n",
        "conversion_rate_by_source. columns = ['Traffic_Source', 'Conversion_Rate' ]\n",
        "\n",
        "# Find the traffic source with the highest conversion rate\n",
        "highest_conversion_rate_source = conversion_rate_by_source.loc[conversion_rate_by_source['Conversion_Rate' ].idxmax() ]\n",
        "\n",
        "# Display overall conversion rate\n",
        "print(f\"Overall Conversion Rate: {overall_conversion_rate: .2%}\")\n",
        "\n",
        "# Display conversion rate by traffic source\n",
        "print(\"\\nConversion Rate by Traffic Source:\")\n",
        "print(conversion_rate_by_source)\n",
        "\n",
        "# Display the traffic source with the highest conversion rate\n",
        "print(\"\\nTraffic Source with the Highest Conversion Rate:\")\n",
        "print(highest_conversion_rate_source)"
      ],
      "metadata": {
        "colab": {
          "base_uri": "https://localhost:8080/"
        },
        "id": "xA0w-L9E08WY",
        "outputId": "ef58af19-d32d-4684-b93a-e8684afa7e10"
      },
      "execution_count": null,
      "outputs": [
        {
          "output_type": "stream",
          "name": "stdout",
          "text": [
            "Overall Conversion Rate:  14.10%\n",
            "\n",
            "Conversion Rate by Traffic Source:\n",
            "  Traffic_Source  Conversion_Rate\n",
            "0         Direct         0.155172\n",
            "1        Organic         0.142857\n",
            "2           Paid         0.133333\n",
            "3       Referral         0.100000\n",
            "4   Social Media         0.166667\n",
            "\n",
            "Traffic Source with the Highest Conversion Rate:\n",
            "Traffic_Source     Social Media\n",
            "Conversion_Rate        0.166667\n",
            "Name: 4, dtype: object\n"
          ]
        }
      ]
    },
    {
      "cell_type": "code",
      "source": [
        "# Import necessary libraries\n",
        "import pandas as pd\n",
        "from sklearn.model_selection import train_test_split\n",
        "from sklearn. linear_model import LogisticRegression\n",
        "from sklearn.preprocessing import OneHotEncoder\n",
        "from sklearn.metrics import accuracy_score\n",
        "\n",
        "# Load the dataset\n",
        "df = pd.read_csv('web_analytics_data.csv')\n",
        "\n",
        "# Features for the logistic regression model\n",
        "features = ['Session_Duration', 'Page_Views', 'Traffic_Source' ]\n",
        "\n",
        "# One-hot encode the categorical variable 'Traffic_Source'\n",
        "encoder = OneHotEncoder(drop='first' )\n",
        "traffic_source_encoded = encoder. fit_transform(df[['Traffic_Source']]). toarray() # Convert to dense array\n",
        "traffic_source_encoded_df = pd. DataFrame(traffic_source_encoded, columns=encoder. get_feature_names_out(['Traffic_Source' ]))\n",
        "\n",
        "# Combine encoded 'Traffic_Source' with other features\n",
        "X = pd. concat([df[ ['Session_Duration', 'Page_Views' ]], traffic_source_encoded_df], axis=1)\n",
        "\n",
        "# Target variable (Conversion: 1 or 0)\n",
        "y = df ['Conversions' ]\n",
        "\n",
        "# Split data into training and testing sets (80% train, 20% test)\n",
        "X_train, X_test, y_train, y_test = train_test_split(X, y, test_size=0.2, random_state=42)\n",
        "\n",
        "# Initialize and train the logistic regression model\n",
        "model = LogisticRegression()\n",
        "model.fit(X_train, y_train)\n",
        "\n",
        "# Predict on the test set\n",
        "y_pred = model. predict(X_test)\n",
        "\n",
        "# Evaluate the model's accuracy\n",
        "accuracy = accuracy_score(y_test, y_pred)\n",
        "\n",
        "# Display the accuracy of the model\n",
        "print(f\"Model Accuracy: {accuracy: .2%}\")"
      ],
      "metadata": {
        "colab": {
          "base_uri": "https://localhost:8080/"
        },
        "id": "3y3V4KbJ1JPC",
        "outputId": "52ee13b0-80fa-456e-f172-3ceb60944ef9"
      },
      "execution_count": null,
      "outputs": [
        {
          "output_type": "stream",
          "name": "stdout",
          "text": [
            "Model Accuracy:  87.00%\n"
          ]
        }
      ]
    }
  ]
}