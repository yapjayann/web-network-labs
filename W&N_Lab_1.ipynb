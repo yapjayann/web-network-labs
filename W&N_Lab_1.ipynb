{
  "nbformat": 4,
  "nbformat_minor": 0,
  "metadata": {
    "colab": {
      "provenance": [],
      "authorship_tag": "ABX9TyPteS6jwB3Da7YYrFUJxqlb",
      "include_colab_link": true
    },
    "kernelspec": {
      "name": "python3",
      "display_name": "Python 3"
    },
    "language_info": {
      "name": "python"
    }
  },
  "cells": [
    {
      "cell_type": "markdown",
      "metadata": {
        "id": "view-in-github",
        "colab_type": "text"
      },
      "source": [
        "<a href=\"https://colab.research.google.com/github/yapjayann/web-network-labs/blob/main/W%26N_Lab_1.ipynb\" target=\"_parent\"><img src=\"https://colab.research.google.com/assets/colab-badge.svg\" alt=\"Open In Colab\"/></a>"
      ]
    },
    {
      "cell_type": "code",
      "execution_count": null,
      "metadata": {
        "colab": {
          "base_uri": "https://localhost:8080/"
        },
        "id": "pmqUH7GmwK8q",
        "outputId": "b0e4c6ae-fe68-4f0d-8e13-423ba5a5a27e"
      },
      "outputs": [
        {
          "output_type": "stream",
          "name": "stdout",
          "text": [
            "      Student_Name  Coursework_Mark  Final_Exam_Mark  Final_Score\n",
            "0       Alice Wong               35               32           67\n",
            "1     Maria Alonzo               40               36           76\n",
            "2      Larry Smith               39               31           70\n",
            "3        John Liew               43               36           79\n",
            "4  Raymond Arbough               48               37           85\n"
          ]
        }
      ],
      "source": [
        "import pandas as pd\n",
        "\n",
        "# Create a dictionary with the provided data\n",
        "data = {\n",
        "'Student_Name': ['Alice Wong', 'Maria Alonzo', 'Larry Smith', 'John Liew', 'Raymond Arbough'],\n",
        "'Coursework_Mark': [35, 40, 39, 43, 48],\n",
        "'Final_Exam_Mark': [32, 36, 31, 36, 37]\n",
        "\n",
        "}\n",
        "\n",
        "# Calculate the Final_Score based on the given weightage\n",
        "data['Final_Score' ] = [(coursework) + (final_exam) for coursework, final_exam in zip(data['Coursework_Mark'], data['Final_Exam_Mark'])]\n",
        "\n",
        "# Create a DataFrame from the dictionary\n",
        "df = pd.DataFrame(data)\n",
        "\n",
        "print(df)"
      ]
    },
    {
      "cell_type": "code",
      "source": [
        "import pandas as pd\n",
        "\n",
        "# Existing DataFrame\n",
        "existing_df = pd.DataFrame({\n",
        "'Student_Name': ['Alice Wong', 'Maria Alonzo', 'Larry Smith', 'John Liew', 'Raymond Arbough'],\n",
        "'Coursework_Mark': [35, 40, 39, 43, 48],\n",
        "'Final_Exam_Mark': [32, 36, 31, 36, 37],\n",
        "'Final_Score': [67.2, 76.0, 69.0, 78.0, 85.0]\n",
        "})\n",
        "# New row to append\n",
        "new_data = {\n",
        "'Student_Name': ['Olivia Nielson', 'Charlie Mund'],\n",
        "'Coursework_Mark': [28, 27],\n",
        "'Final_Exam_Mark': [32, 30]\n",
        "}\n",
        "# Calculate the Final_Score for the new row based on the given weightage\n",
        "new_data['Final_Score' ] = [(coursework) + (final_exam) for coursework, final_exam in zip(new_data['Coursework_Mark' ], new_data['Final_Exam_Mark'])]\n",
        "\n",
        "# Convert new_data to a DataFrame\n",
        "new_df = pd.DataFrame(new_data)\n",
        "\n",
        "# Append the new row to the existing DataFrame\n",
        "combined_df = pd.concat([existing_df, new_df], ignore_index=True)\n",
        "\n",
        "print(combined_df)"
      ],
      "metadata": {
        "colab": {
          "base_uri": "https://localhost:8080/"
        },
        "id": "CSA5NFAgxriJ",
        "outputId": "8c5d5812-70b7-43e5-91c0-a67bd062d346"
      },
      "execution_count": null,
      "outputs": [
        {
          "output_type": "stream",
          "name": "stdout",
          "text": [
            "      Student_Name  Coursework_Mark  Final_Exam_Mark  Final_Score\n",
            "0       Alice Wong               35               32         67.2\n",
            "1     Maria Alonzo               40               36         76.0\n",
            "2      Larry Smith               39               31         69.0\n",
            "3        John Liew               43               36         78.0\n",
            "4  Raymond Arbough               48               37         85.0\n",
            "5   Olivia Nielson               28               32         60.0\n",
            "6     Charlie Mund               27               30         57.0\n"
          ]
        }
      ]
    },
    {
      "cell_type": "code",
      "source": [
        "import pandas as pd\n",
        "\n",
        "# Existing DataFrame\n",
        "existing_df = pd. DataFrame({\n",
        "'Student_Name': ['Alice Wong', 'Maria Alonzo', 'Larry Smith', 'John Liew', 'Raymond Arbough', 'Olivia Nielson', 'Charlie Mund'],\n",
        "'Coursework_Mark': [35, 40, 39, 43, 48, 28, 27],\n",
        "'Final_Exam_Mark': [32, 36, 31, 36, 37, 32, 30],\n",
        "'Final_Score': [67.2, 76.0, 69.0, 78.0, 85.0, 60.0, 57.0]\n",
        "})\n",
        "# New column data\n",
        "grades = ['B', 'A-', 'B+', 'A-', 'A', 'B-', 'C+']\n",
        "\n",
        "# Add the new column to the DataFrame\n",
        "existing_df['Grades' ] = grades\n",
        "\n",
        "print(existing_df)"
      ],
      "metadata": {
        "colab": {
          "base_uri": "https://localhost:8080/"
        },
        "id": "Z8JBNDv4yeBx",
        "outputId": "50c7607c-87f3-4551-be30-6542746e60e2"
      },
      "execution_count": null,
      "outputs": [
        {
          "output_type": "stream",
          "name": "stdout",
          "text": [
            "      Student_Name  Coursework_Mark  Final_Exam_Mark  Final_Score Grades\n",
            "0       Alice Wong               35               32         67.2      B\n",
            "1     Maria Alonzo               40               36         76.0     A-\n",
            "2      Larry Smith               39               31         69.0     B+\n",
            "3        John Liew               43               36         78.0     A-\n",
            "4  Raymond Arbough               48               37         85.0      A\n",
            "5   Olivia Nielson               28               32         60.0     B-\n",
            "6     Charlie Mund               27               30         57.0     C+\n"
          ]
        }
      ]
    },
    {
      "cell_type": "code",
      "source": [
        "import pandas as pd\n",
        "\n",
        "# Existing DataFrame\n",
        "existing_df = pd.DataFrame({\n",
        "'Student_Name': ['Alice Wong', 'Maria Alonzo', 'Larry Smith', 'John Liew', 'Raymond Arbough', 'Olivia Nielson', 'Charlie Mund'],\n",
        "'Coursework_Mark': [35, 40, 39, 43, 48, 28, 27],\n",
        "'Final_Exam_Mark': [32, 36, 31, 36, 37, 32, 30],\n",
        "'Final_Score': [67.2, 76.0, 69.0, 78.0, 85.0, 60.0, 57.0],\n",
        "'Grades': ['B', 'A-', 'B+', 'A-', 'A', 'B-', 'C+']\n",
        "})\n",
        "# Delete the row corresponding to \"Larry Smith\"\n",
        "existing_df = existing_df[existing_df['Student_Name' ] != 'Larry Smith' ]\n",
        "\n",
        "print(existing_df)"
      ],
      "metadata": {
        "colab": {
          "base_uri": "https://localhost:8080/"
        },
        "id": "nJ6RhXDwzgx9",
        "outputId": "6cafcd36-ec48-4709-a11f-e8563dede570"
      },
      "execution_count": null,
      "outputs": [
        {
          "output_type": "stream",
          "name": "stdout",
          "text": [
            "      Student_Name  Coursework_Mark  Final_Exam_Mark  Final_Score Grades\n",
            "0       Alice Wong               35               32         67.2      B\n",
            "1     Maria Alonzo               40               36         76.0     A-\n",
            "3        John Liew               43               36         78.0     A-\n",
            "4  Raymond Arbough               48               37         85.0      A\n",
            "5   Olivia Nielson               28               32         60.0     B-\n",
            "6     Charlie Mund               27               30         57.0     C+\n"
          ]
        }
      ]
    },
    {
      "cell_type": "code",
      "source": [
        "import matplotlib.pyplot as plt\n",
        "\n",
        "# Count the number of students obtaining each grade\n",
        "grade_counts = existing_df ['Grades' ]. value_counts ()\n",
        "\n",
        "# Plot the bar chart\n",
        "plt.bar(grade_counts.index, grade_counts.values, color='skyblue' )\n",
        "\n",
        "# Add labels and title\n",
        "plt.xlabel ('Grades' )\n",
        "plt.ylabel ('Number of Students' )\n",
        "plt. title('Number of Students Obtaining Each Grade')\n",
        "\n",
        "# Show the plot\n",
        "plt.show()"
      ],
      "metadata": {
        "colab": {
          "base_uri": "https://localhost:8080/",
          "height": 472
        },
        "id": "4nibwpMH2ZI2",
        "outputId": "0ea2814b-7be0-4e7b-9960-a2d77c3cc4ca"
      },
      "execution_count": null,
      "outputs": [
        {
          "output_type": "display_data",
          "data": {
            "text/plain": [
              "<Figure size 640x480 with 1 Axes>"
            ],
            "image/png": "[encoded data removed]"
          },
          "metadata": {}
        }
      ]
    },
    {
      "cell_type": "code",
      "source": [
        "# Save the DataFrame to a CSV file\n",
        "existing_df. to_csv('Course_Marks.csv', index=False)\n",
        "\n",
        "from google. colab import files\n",
        "\n",
        "# Download the CSV file\n",
        "files.download ('Course_Marks.csv' )"
      ],
      "metadata": {
        "id": "d1pg7JBl2tTM",
        "outputId": "2ed7307e-bd0e-4727-ee50-84884d8486a6",
        "colab": {
          "base_uri": "https://localhost:8080/",
          "height": 34
        }
      },
      "execution_count": null,
      "outputs": [
        {
          "output_type": "display_data",
          "data": {
            "text/plain": [
              "<IPython.core.display.Javascript object>"
            ],
            "application/javascript": [
              "\n",
              "    async function download(id, filename, size) {\n",
              "      if (!google.colab.kernel.accessAllowed) {\n",
              "        return;\n",
              "      }\n",
              "      const div = document.createElement('div');\n",
              "      const label = document.createElement('label');\n",
              "      label.textContent = `Downloading \"${filename}\": `;\n",
              "      div.appendChild(label);\n",
              "      const progress = document.createElement('progress');\n",
              "      progress.max = size;\n",
              "      div.appendChild(progress);\n",
              "      document.body.appendChild(div);\n",
              "\n",
              "      const buffers = [];\n",
              "      let downloaded = 0;\n",
              "\n",
              "      const channel = await google.colab.kernel.comms.open(id);\n",
              "      // Send a message to notify the kernel that we're ready.\n",
              "      channel.send({})\n",
              "\n",
              "      for await (const message of channel.messages) {\n",
              "        // Send a message to notify the kernel that we're ready.\n",
              "        channel.send({})\n",
              "        if (message.buffers) {\n",
              "          for (const buffer of message.buffers) {\n",
              "            buffers.push(buffer);\n",
              "            downloaded += buffer.byteLength;\n",
              "            progress.value = downloaded;\n",
              "          }\n",
              "        }\n",
              "      }\n",
              "      const blob = new Blob(buffers, {type: 'application/binary'});\n",
              "      const a = document.createElement('a');\n",
              "      a.href = window.URL.createObjectURL(blob);\n",
              "      a.download = filename;\n",
              "      div.appendChild(a);\n",
              "      a.click();\n",
              "      div.remove();\n",
              "    }\n",
              "  "
            ]
          },
          "metadata": {}
        },
        {
          "output_type": "display_data",
          "data": {
            "text/plain": [
              "<IPython.core.display.Javascript object>"
            ],
            "application/javascript": [
              "download(\"download_6c4a6697-9b67-4ab0-afbd-bdeae9552f15\", \"Course_Marks.csv\", 224)"
            ]
          },
          "metadata": {}
        }
      ]
    }
  ]
}